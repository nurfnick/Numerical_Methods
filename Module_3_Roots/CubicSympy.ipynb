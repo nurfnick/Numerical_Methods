{
  "nbformat": 4,
  "nbformat_minor": 0,
  "metadata": {
    "colab": {
      "provenance": [],
      "authorship_tag": "ABX9TyOY1yvUvkrXvbN5F38WF56c",
      "include_colab_link": true
    },
    "kernelspec": {
      "name": "python3",
      "display_name": "Python 3"
    },
    "language_info": {
      "name": "python"
    }
  },
  "cells": [
    {
      "cell_type": "markdown",
      "metadata": {
        "id": "view-in-github",
        "colab_type": "text"
      },
      "source": [
        "<a href=\"https://colab.research.google.com/github/nurfnick/Numerical_Methods/blob/master/Module_3_Roots/CubicSympy.ipynb\" target=\"_parent\"><img src=\"https://colab.research.google.com/assets/colab-badge.svg\" alt=\"Open In Colab\"/></a>"
      ]
    },
    {
      "cell_type": "code",
      "execution_count": 2,
      "metadata": {
        "id": "KypliU3t7pAT"
      },
      "outputs": [],
      "source": [
        "from sympy import *\n",
        "\n",
        "x = symbols('x')"
      ]
    },
    {
      "cell_type": "code",
      "source": [
        "f = x**3+x+1\n",
        "plot(f,(x,-2,2))"
      ],
      "metadata": {
        "colab": {
          "base_uri": "https://localhost:8080/",
          "height": 314
        },
        "id": "LCKjvJBW7ueO",
        "outputId": "8c93b27c-4ab2-4db6-bce4-8fbf6d81747f"
      },
      "execution_count": 4,
      "outputs": [
        {
          "output_type": "display_data",
          "data": {
            "text/plain": [
              "<Figure size 432x288 with 1 Axes>"
            ],
            "image/png": "[encoded data removed]"
          },
          "metadata": {
            "needs_background": "light"
          }
        },
        {
          "output_type": "execute_result",
          "data": {
            "text/plain": [
              "<sympy.plotting.plot.Plot at 0x7fe221d4d910>"
            ]
          },
          "metadata": {},
          "execution_count": 4
        }
      ]
    },
    {
      "cell_type": "code",
      "source": [
        "N(solve(f,x)[2])"
      ],
      "metadata": {
        "colab": {
          "base_uri": "https://localhost:8080/",
          "height": 37
        },
        "id": "wksFo_ov70uT",
        "outputId": "1da13b38-5ad0-4b9f-e8c0-1b888ced0de5"
      },
      "execution_count": 11,
      "outputs": [
        {
          "output_type": "execute_result",
          "data": {
            "text/plain": [
              "-0.682327803828019"
            ],
            "text/latex": "$\\displaystyle -0.682327803828019$"
          },
          "metadata": {},
          "execution_count": 11
        }
      ]
    },
    {
      "cell_type": "code",
      "source": [
        "solve(f,x)[2]"
      ],
      "metadata": {
        "colab": {
          "base_uri": "https://localhost:8080/",
          "height": 84
        },
        "id": "HubbZJwM8Dks",
        "outputId": "0a31e2c6-b3f6-4193-ee5c-996cf8853218"
      },
      "execution_count": 12,
      "outputs": [
        {
          "output_type": "execute_result",
          "data": {
            "text/plain": [
              "-(27/2 + 3*sqrt(93)/2)**(1/3)/3 + (27/2 + 3*sqrt(93)/2)**(-1/3)"
            ],
            "text/latex": "$\\displaystyle - \\frac{\\sqrt[3]{\\frac{27}{2} + \\frac{3 \\sqrt{93}}{2}}}{3} + \\frac{1}{\\sqrt[3]{\\frac{27}{2} + \\frac{3 \\sqrt{93}}{2}}}$"
          },
          "metadata": {},
          "execution_count": 12
        }
      ]
    },
    {
      "cell_type": "code",
      "source": [],
      "metadata": {
        "id": "MmHI9DLp8WqK"
      },
      "execution_count": null,
      "outputs": []
    }
  ]
}