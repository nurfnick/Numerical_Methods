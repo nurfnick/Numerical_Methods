{
  "nbformat": 4,
  "nbformat_minor": 0,
  "metadata": {
    "colab": {
      "provenance": [],
      "authorship_tag": "ABX9TyOLM5oY79cBLSIeJwdhHSPK",
      "include_colab_link": true
    },
    "kernelspec": {
      "name": "python3",
      "display_name": "Python 3"
    },
    "language_info": {
      "name": "python"
    }
  },
  "cells": [
    {
      "cell_type": "markdown",
      "metadata": {
        "id": "view-in-github",
        "colab_type": "text"
      },
      "source": [
        "<a href=\"https://colab.research.google.com/github/nurfnick/Numerical_Methods/blob/master/Module_1_Errors/Project1Sympy.ipynb\" target=\"_parent\"><img src=\"https://colab.research.google.com/assets/colab-badge.svg\" alt=\"Open In Colab\"/></a>"
      ]
    },
    {
      "cell_type": "markdown",
      "source": [
        "# Project 1 With `sympy`\n",
        "## Dr. Nicholas C Jacob\n",
        "\n",
        "I wanted to re-attempt the project with a new software tool I have been using for my calculus classes.  It is using a computer algebra system so some things are easier and others harder.  Actually the very first question is harder..."
      ],
      "metadata": {
        "id": "ZMClDRqK-ySH"
      }
    },
    {
      "cell_type": "code",
      "source": [
        "from sympy import *\n",
        "x,y,n = symbols(('x','y','n'))\n"
      ],
      "metadata": {
        "id": "mBNEO14__Yw0"
      },
      "execution_count": 2,
      "outputs": []
    },
    {
      "cell_type": "markdown",
      "source": [
        "# Part 1:  Finding Errors"
      ],
      "metadata": {
        "id": "n27iZqEn_L0c"
      }
    },
    {
      "cell_type": "markdown",
      "source": [
        "Absolute and relative errors are basic functions.  I am not a fon of how I did these though!"
      ],
      "metadata": {
        "id": "dm7Ip_s1_Pva"
      }
    },
    {
      "cell_type": "code",
      "execution_count": 3,
      "metadata": {
        "id": "hkLTx0to-g_O"
      },
      "outputs": [],
      "source": [
        "trueerror = x-y\n",
        "relativeerror = (x-y)/y"
      ]
    },
    {
      "cell_type": "code",
      "source": [
        "trueerror.subs([(x,5),(y,6)])"
      ],
      "metadata": {
        "colab": {
          "base_uri": "https://localhost:8080/",
          "height": 37
        },
        "id": "j8cMDqr__3lr",
        "outputId": "0435d2f0-9415-44b9-d523-ea8687ef2ce5"
      },
      "execution_count": 8,
      "outputs": [
        {
          "output_type": "execute_result",
          "data": {
            "text/plain": [
              "-1"
            ],
            "text/latex": "$\\displaystyle -1$"
          },
          "metadata": {},
          "execution_count": 8
        }
      ]
    },
    {
      "cell_type": "markdown",
      "source": [
        "The `subs` command is not my favorite.  There are ways around it, but I'll leave it be for the time being."
      ],
      "metadata": {
        "id": "3_4u3AfNARCB"
      }
    },
    {
      "cell_type": "code",
      "source": [
        "approxerror = x -y\n",
        "approxrelativeerror = (x-y)/x"
      ],
      "metadata": {
        "id": "svhGNVGY_7nC"
      },
      "execution_count": 9,
      "outputs": []
    },
    {
      "cell_type": "markdown",
      "source": [
        "## Part 2:  Taylor's Series"
      ],
      "metadata": {
        "id": "pvgTsFCFBrRR"
      }
    },
    {
      "cell_type": "markdown",
      "source": [
        "This is why I accutually wanted to do `sympy`.  I am going to look at a Bessel function, I choose order 0."
      ],
      "metadata": {
        "id": "4TWpYWqHBwIL"
      }
    },
    {
      "cell_type": "code",
      "source": [
        "f = besselj(0,x)\n",
        "f"
      ],
      "metadata": {
        "colab": {
          "base_uri": "https://localhost:8080/",
          "height": 38
        },
        "id": "mqIpHCD0Bmx2",
        "outputId": "98b0bde2-9fa8-4f57-a9f8-88af76261c76"
      },
      "execution_count": 21,
      "outputs": [
        {
          "output_type": "execute_result",
          "data": {
            "text/plain": [
              "besselj(0, x)"
            ],
            "text/latex": "$\\displaystyle J_{0}\\left(x\\right)$"
          },
          "metadata": {},
          "execution_count": 21
        }
      ]
    },
    {
      "cell_type": "code",
      "source": [
        "plot(f,(x,0,20))"
      ],
      "metadata": {
        "colab": {
          "base_uri": "https://localhost:8080/",
          "height": 315
        },
        "id": "wLHJRMZJB_Hw",
        "outputId": "1640ede9-5574-4c1e-f24c-d8ae7b6262c0"
      },
      "execution_count": 23,
      "outputs": [
        {
          "output_type": "display_data",
          "data": {
            "text/plain": [
              "<Figure size 432x288 with 1 Axes>"
            ],
            "image/png": "[encoded data removed]"
          },
          "metadata": {
            "needs_background": "light"
          }
        },
        {
          "output_type": "execute_result",
          "data": {
            "text/plain": [
              "<sympy.plotting.plot.Plot at 0x7f3c02f91340>"
            ]
          },
          "metadata": {},
          "execution_count": 23
        }
      ]
    },
    {
      "cell_type": "markdown",
      "source": [
        "Looks like a fun function to approximate!  I use the built ins to just compute the series"
      ],
      "metadata": {
        "id": "uZVzd9qOCmHa"
      }
    },
    {
      "cell_type": "code",
      "source": [
        "g = series(f,x,x0 = 1, n = 20).removeO()\n",
        "g"
      ],
      "metadata": {
        "colab": {
          "base_uri": "https://localhost:8080/",
          "height": 606
        },
        "id": "29TtkhGaCMsE",
        "outputId": "63c8d152-ba1a-44a1-d9bc-000ede1f7b39"
      },
      "execution_count": 28,
      "outputs": [
        {
          "output_type": "execute_result",
          "data": {
            "text/plain": [
              "(x - 1)**19*(-besselj(3, 1)/421906448646144000 - besselj(7, 1)/1175310821228544000 - besselj(11, 1)/8227175748599808000 - besselj(15, 1)/186482650301595648000 - besselj(19, 1)/31888533201572855808000 + besselj(17, 1)/1678343852714360832000 + besselj(13, 1)/32908702994399232000 + besselj(9, 1)/2742391916199936000 + besselj(5, 1)/632859672969216000 + besselj(1, 1)/345196185255936000) + (x - 1)**18*(-besselj(0, 1)/34519618525593600 - besselj(4, 1)/26369153040384000 - besselj(8, 1)/97942568435712000 - besselj(12, 1)/1028396968574976000 - besselj(16, 1)/46620662575398912000 + besselj(18, 1)/839171926357180416000 + besselj(14, 1)/5484783832399872000 + besselj(10, 1)/274239191619993600 + besselj(6, 1)/45204262354944000 + besselj(2, 1)/19177565847552000) + (x - 1)**17*(-besselj(1, 1)/958878292377600 - besselj(5, 1)/1883510931456000 - besselj(9, 1)/9794256843571200 - besselj(13, 1)/171399494762496000 - besselj(17, 1)/23310331287699456000 + besselj(15, 1)/1371195958099968000 + besselj(11, 1)/34279898952499200 + besselj(7, 1)/3767021862912000 + besselj(3, 1)/1198597865472000) + (x - 1)**16*(-besselj(2, 1)/59929893273600 - besselj(6, 1)/156959244288000 - besselj(10, 1)/1224282105446400 - besselj(14, 1)/42849873690624000 + besselj(16, 1)/685597979049984000 + besselj(12, 1)/5713316492083200 + besselj(8, 1)/376702186291200 + besselj(4, 1)/85614133248000 + besselj(0, 1)/106542032486400) + (x - 1)**15*(-besselj(3, 1)/4280706662400 - besselj(7, 1)/15695924428800 - besselj(11, 1)/204047017574400 - besselj(15, 1)/21424936845312000 + besselj(13, 1)/1428329123020800 + besselj(9, 1)/47087773286400 + besselj(5, 1)/7134511104000 + besselj(1, 1)/3329438515200) + (x - 1)**14*(-besselj(0, 1)/416179814400 - besselj(4, 1)/356725555200 - besselj(8, 1)/1961990553600 - besselj(12, 1)/51011754393600 + besselj(14, 1)/714164561510400 + besselj(10, 1)/7847962214400 + besselj(6, 1)/713451110400 + besselj(2, 1)/237817036800) + (x - 1)**13*(-besselj(1, 1)/14863564800 - besselj(5, 1)/35672555520 - besselj(9, 1)/326998425600 - besselj(13, 1)/25505877196800 + besselj(11, 1)/1961990553600 + besselj(7, 1)/89181388800 + besselj(3, 1)/19818086400) + (x - 1)**12*(-besselj(2, 1)/1238630400 - besselj(6, 1)/4459069440 - besselj(10, 1)/81749606400 + besselj(12, 1)/980995276800 + besselj(8, 1)/14863564800 + besselj(4, 1)/1981808640 + besselj(0, 1)/2123366400) + (x - 1)**11*(-besselj(3, 1)/123863040 - besselj(7, 1)/743178240 - besselj(11, 1)/40874803200 + besselj(9, 1)/3715891200 + besselj(5, 1)/247726080 + besselj(1, 1)/88473600) + (x - 1)**10*(-besselj(0, 1)/14745600 - besselj(4, 1)/15482880 - besselj(8, 1)/185794560 + besselj(10, 1)/1857945600 + besselj(6, 1)/41287680 + besselj(2, 1)/8847360) + (x - 1)**9*(-besselj(1, 1)/737280 - besselj(5, 1)/2580480 - besselj(9, 1)/92897280 + besselj(7, 1)/10321920 + besselj(3, 1)/1105920) + (x - 1)**8*(-besselj(2, 1)/92160 - besselj(6, 1)/645120 + besselj(8, 1)/5160960 + besselj(4, 1)/184320 + besselj(0, 1)/147456) + (x - 1)**7*(-besselj(3, 1)/15360 - besselj(7, 1)/322560 + besselj(5, 1)/46080 + besselj(1, 1)/9216) + (x - 1)**6*(-besselj(0, 1)/2304 - besselj(4, 1)/3840 + besselj(6, 1)/23040 + besselj(2, 1)/1536) + (x - 1)**5*(-besselj(1, 1)/192 - besselj(5, 1)/1920 + besselj(3, 1)/384) + (x - 1)**4*(-besselj(2, 1)/48 + besselj(4, 1)/192 + besselj(0, 1)/64) + (x - 1)**3*(-besselj(3, 1)/24 + besselj(1, 1)/8) + (x - 1)**2*(-besselj(0, 1)/4 + besselj(2, 1)/4) - (x - 1)*besselj(1, 1) + besselj(0, 1)"
            ],
            "text/latex": "$\\displaystyle \\left(x - 1\\right)^{19} \\left(- \\frac{J_{3}\\left(1\\right)}{421906448646144000} - \\frac{J_{7}\\left(1\\right)}{1175310821228544000} - \\frac{J_{11}\\left(1\\right)}{8227175748599808000} - \\frac{J_{15}\\left(1\\right)}{186482650301595648000} - \\frac{J_{19}\\left(1\\right)}{31888533201572855808000} + \\frac{J_{17}\\left(1\\right)}{1678343852714360832000} + \\frac{J_{13}\\left(1\\right)}{32908702994399232000} + \\frac{J_{9}\\left(1\\right)}{2742391916199936000} + \\frac{J_{5}\\left(1\\right)}{632859672969216000} + \\frac{J_{1}\\left(1\\right)}{345196185255936000}\\right) + \\left(x - 1\\right)^{18} \\left(- \\frac{J_{0}\\left(1\\right)}{34519618525593600} - \\frac{J_{4}\\left(1\\right)}{26369153040384000} - \\frac{J_{8}\\left(1\\right)}{97942568435712000} - \\frac{J_{12}\\left(1\\right)}{1028396968574976000} - \\frac{J_{16}\\left(1\\right)}{46620662575398912000} + \\frac{J_{18}\\left(1\\right)}{839171926357180416000} + \\frac{J_{14}\\left(1\\right)}{5484783832399872000} + \\frac{J_{10}\\left(1\\right)}{274239191619993600} + \\frac{J_{6}\\left(1\\right)}{45204262354944000} + \\frac{J_{2}\\left(1\\right)}{19177565847552000}\\right) + \\left(x - 1\\right)^{17} \\left(- \\frac{J_{1}\\left(1\\right)}{958878292377600} - \\frac{J_{5}\\left(1\\right)}{1883510931456000} - \\frac{J_{9}\\left(1\\right)}{9794256843571200} - \\frac{J_{13}\\left(1\\right)}{171399494762496000} - \\frac{J_{17}\\left(1\\right)}{23310331287699456000} + \\frac{J_{15}\\left(1\\right)}{1371195958099968000} + \\frac{J_{11}\\left(1\\right)}{34279898952499200} + \\frac{J_{7}\\left(1\\right)}{3767021862912000} + \\frac{J_{3}\\left(1\\right)}{1198597865472000}\\right) + \\left(x - 1\\right)^{16} \\left(- \\frac{J_{2}\\left(1\\right)}{59929893273600} - \\frac{J_{6}\\left(1\\right)}{156959244288000} - \\frac{J_{10}\\left(1\\right)}{1224282105446400} - \\frac{J_{14}\\left(1\\right)}{42849873690624000} + \\frac{J_{16}\\left(1\\right)}{685597979049984000} + \\frac{J_{12}\\left(1\\right)}{5713316492083200} + \\frac{J_{8}\\left(1\\right)}{376702186291200} + \\frac{J_{4}\\left(1\\right)}{85614133248000} + \\frac{J_{0}\\left(1\\right)}{106542032486400}\\right) + \\left(x - 1\\right)^{15} \\left(- \\frac{J_{3}\\left(1\\right)}{4280706662400} - \\frac{J_{7}\\left(1\\right)}{15695924428800} - \\frac{J_{11}\\left(1\\right)}{204047017574400} - \\frac{J_{15}\\left(1\\right)}{21424936845312000} + \\frac{J_{13}\\left(1\\right)}{1428329123020800} + \\frac{J_{9}\\left(1\\right)}{47087773286400} + \\frac{J_{5}\\left(1\\right)}{7134511104000} + \\frac{J_{1}\\left(1\\right)}{3329438515200}\\right) + \\left(x - 1\\right)^{14} \\left(- \\frac{J_{0}\\left(1\\right)}{416179814400} - \\frac{J_{4}\\left(1\\right)}{356725555200} - \\frac{J_{8}\\left(1\\right)}{1961990553600} - \\frac{J_{12}\\left(1\\right)}{51011754393600} + \\frac{J_{14}\\left(1\\right)}{714164561510400} + \\frac{J_{10}\\left(1\\right)}{7847962214400} + \\frac{J_{6}\\left(1\\right)}{713451110400} + \\frac{J_{2}\\left(1\\right)}{237817036800}\\right) + \\left(x - 1\\right)^{13} \\left(- \\frac{J_{1}\\left(1\\right)}{14863564800} - \\frac{J_{5}\\left(1\\right)}{35672555520} - \\frac{J_{9}\\left(1\\right)}{326998425600} - \\frac{J_{13}\\left(1\\right)}{25505877196800} + \\frac{J_{11}\\left(1\\right)}{1961990553600} + \\frac{J_{7}\\left(1\\right)}{89181388800} + \\frac{J_{3}\\left(1\\right)}{19818086400}\\right) + \\left(x - 1\\right)^{12} \\left(- \\frac{J_{2}\\left(1\\right)}{1238630400} - \\frac{J_{6}\\left(1\\right)}{4459069440} - \\frac{J_{10}\\left(1\\right)}{81749606400} + \\frac{J_{12}\\left(1\\right)}{980995276800} + \\frac{J_{8}\\left(1\\right)}{14863564800} + \\frac{J_{4}\\left(1\\right)}{1981808640} + \\frac{J_{0}\\left(1\\right)}{2123366400}\\right) + \\left(x - 1\\right)^{11} \\left(- \\frac{J_{3}\\left(1\\right)}{123863040} - \\frac{J_{7}\\left(1\\right)}{743178240} - \\frac{J_{11}\\left(1\\right)}{40874803200} + \\frac{J_{9}\\left(1\\right)}{3715891200} + \\frac{J_{5}\\left(1\\right)}{247726080} + \\frac{J_{1}\\left(1\\right)}{88473600}\\right) + \\left(x - 1\\right)^{10} \\left(- \\frac{J_{0}\\left(1\\right)}{14745600} - \\frac{J_{4}\\left(1\\right)}{15482880} - \\frac{J_{8}\\left(1\\right)}{185794560} + \\frac{J_{10}\\left(1\\right)}{1857945600} + \\frac{J_{6}\\left(1\\right)}{41287680} + \\frac{J_{2}\\left(1\\right)}{8847360}\\right) + \\left(x - 1\\right)^{9} \\left(- \\frac{J_{1}\\left(1\\right)}{737280} - \\frac{J_{5}\\left(1\\right)}{2580480} - \\frac{J_{9}\\left(1\\right)}{92897280} + \\frac{J_{7}\\left(1\\right)}{10321920} + \\frac{J_{3}\\left(1\\right)}{1105920}\\right) + \\left(x - 1\\right)^{8} \\left(- \\frac{J_{2}\\left(1\\right)}{92160} - \\frac{J_{6}\\left(1\\right)}{645120} + \\frac{J_{8}\\left(1\\right)}{5160960} + \\frac{J_{4}\\left(1\\right)}{184320} + \\frac{J_{0}\\left(1\\right)}{147456}\\right) + \\left(x - 1\\right)^{7} \\left(- \\frac{J_{3}\\left(1\\right)}{15360} - \\frac{J_{7}\\left(1\\right)}{322560} + \\frac{J_{5}\\left(1\\right)}{46080} + \\frac{J_{1}\\left(1\\right)}{9216}\\right) + \\left(x - 1\\right)^{6} \\left(- \\frac{J_{0}\\left(1\\right)}{2304} - \\frac{J_{4}\\left(1\\right)}{3840} + \\frac{J_{6}\\left(1\\right)}{23040} + \\frac{J_{2}\\left(1\\right)}{1536}\\right) + \\left(x - 1\\right)^{5} \\left(- \\frac{J_{1}\\left(1\\right)}{192} - \\frac{J_{5}\\left(1\\right)}{1920} + \\frac{J_{3}\\left(1\\right)}{384}\\right) + \\left(x - 1\\right)^{4} \\left(- \\frac{J_{2}\\left(1\\right)}{48} + \\frac{J_{4}\\left(1\\right)}{192} + \\frac{J_{0}\\left(1\\right)}{64}\\right) + \\left(x - 1\\right)^{3} \\left(- \\frac{J_{3}\\left(1\\right)}{24} + \\frac{J_{1}\\left(1\\right)}{8}\\right) + \\left(x - 1\\right)^{2} \\left(- \\frac{J_{0}\\left(1\\right)}{4} + \\frac{J_{2}\\left(1\\right)}{4}\\right) - \\left(x - 1\\right) J_{1}\\left(1\\right) + J_{0}\\left(1\\right)$"
          },
          "metadata": {},
          "execution_count": 28
        }
      ]
    },
    {
      "cell_type": "markdown",
      "source": [
        "That looks really complicated, but it did it all for me very quickly!  I plot these two functions together and notice that at $x=1$ they will exactly meet and start to diverge away from there."
      ],
      "metadata": {
        "id": "WGDsJUEjC4ey"
      }
    },
    {
      "cell_type": "code",
      "source": [
        "plot(f,g,(x,0,10))"
      ],
      "metadata": {
        "colab": {
          "base_uri": "https://localhost:8080/",
          "height": 315
        },
        "id": "d9_neHctCzTX",
        "outputId": "4ba243f4-4094-4a7f-bb81-093c88a644d0"
      },
      "execution_count": 30,
      "outputs": [
        {
          "output_type": "display_data",
          "data": {
            "text/plain": [
              "<Figure size 432x288 with 1 Axes>"
            ],
            "image/png": "[encoded data removed]"
          },
          "metadata": {
            "needs_background": "light"
          }
        },
        {
          "output_type": "execute_result",
          "data": {
            "text/plain": [
              "<sympy.plotting.plot.Plot at 0x7f3c02f910a0>"
            ]
          },
          "metadata": {},
          "execution_count": 30
        }
      ]
    },
    {
      "cell_type": "markdown",
      "source": [
        "I trimmed the window because by 20 they were so far apart as to not see their nearness in the window $(0,10)$."
      ],
      "metadata": {
        "id": "d-ppFdCJDpZB"
      }
    },
    {
      "cell_type": "code",
      "source": [
        "print(\"Step\",\"Approximation\",\"Actual\")\n",
        "for i in range(1,20):\n",
        "  print(i,N(series(f,x,x0 = 1, n = i).removeO().subs(x,1.1)),N(f.subs(x,1.1)))"
      ],
      "metadata": {
        "colab": {
          "base_uri": "https://localhost:8080/"
        },
        "id": "JXunl8z4DL-z",
        "outputId": "9e8537d7-e018-4563-e14e-b08538b2b9ff"
      },
      "execution_count": 34,
      "outputs": [
        {
          "output_type": "stream",
          "name": "stdout",
          "text": [
            "Step Approximation Actual\n",
            "1 0.765197686557967 0.719622018527511\n",
            "2 0.721192627983473 0.719622018527511\n",
            "3 0.719566892479408 0.719622018527511\n",
            "4 0.719621083662877 0.719622018527511\n",
            "5 0.719622041191918 0.719622018527511\n",
            "6 0.719622018780778 0.719622018527511\n",
            "7 0.719622018522824 0.719622018527511\n",
            "8 0.719622018527472 0.719622018527511\n",
            "9 0.719622018527512 0.719622018527511\n",
            "10 0.719622018527511 0.719622018527511\n",
            "11 0.719622018527511 0.719622018527511\n",
            "12 0.719622018527511 0.719622018527511\n",
            "13 0.719622018527511 0.719622018527511\n",
            "14 0.719622018527511 0.719622018527511\n",
            "15 0.719622018527511 0.719622018527511\n",
            "16 0.719622018527511 0.719622018527511\n",
            "17 0.719622018527511 0.719622018527511\n",
            "18 0.719622018527511 0.719622018527511\n",
            "19 0.719622018527511 0.719622018527511\n"
          ]
        }
      ]
    },
    {
      "cell_type": "markdown",
      "source": [
        "We can see that by $n = 10$ the series is spot on up to the floating point.  For giggles, I'll do the approximate error from $n=2$ to $n=3$"
      ],
      "metadata": {
        "id": "CBQ3mZ38EaMH"
      }
    },
    {
      "cell_type": "code",
      "source": [
        "approxerror.subs([(x,N(series(f,x,x0 = 1, n = 3).removeO().subs(x,1.1))),(y,N(series(f,x,x0 = 1, n = 2).removeO().subs(x,1.1)))])"
      ],
      "metadata": {
        "colab": {
          "base_uri": "https://localhost:8080/",
          "height": 37
        },
        "id": "Yn8PUGTiEOiE",
        "outputId": "22be909b-d56c-41f4-c593-4578361ff4a4"
      },
      "execution_count": 36,
      "outputs": [
        {
          "output_type": "execute_result",
          "data": {
            "text/plain": [
              "-0.00162573550406520"
            ],
            "text/latex": "$\\displaystyle -0.0016257355040652$"
          },
          "metadata": {},
          "execution_count": 36
        }
      ]
    },
    {
      "cell_type": "markdown",
      "source": [
        "not bad!"
      ],
      "metadata": {
        "id": "Z2-zbvLgFNdx"
      }
    },
    {
      "cell_type": "code",
      "source": [
        "approxrelativeerror.subs([(x,N(series(f,x,x0 = 1, n = 3).removeO().subs(x,1.1))),(y,N(series(f,x,x0 = 1, n = 2).removeO().subs(x,1.1)))])"
      ],
      "metadata": {
        "colab": {
          "base_uri": "https://localhost:8080/",
          "height": 37
        },
        "id": "UcWptrPgFFgv",
        "outputId": "083305d0-efd3-47f8-8b72-2a76a2e5325a"
      },
      "execution_count": 38,
      "outputs": [
        {
          "output_type": "execute_result",
          "data": {
            "text/plain": [
              "-0.00225932504824300"
            ],
            "text/latex": "$\\displaystyle -0.002259325048243$"
          },
          "metadata": {},
          "execution_count": 38
        }
      ]
    },
    {
      "cell_type": "markdown",
      "source": [
        "Less that 0.2%"
      ],
      "metadata": {
        "id": "kXctIxASFb45"
      }
    },
    {
      "cell_type": "markdown",
      "source": [
        "##Part 3:  Meme Exploration\n",
        "![meme](https://raw.githubusercontent.com/nurfnick/Numerical_Methods/master/Module_1_Errors/approximation.jpg)"
      ],
      "metadata": {
        "id": "qcaO5C1aFkuo"
      }
    },
    {
      "cell_type": "markdown",
      "source": [
        "I am going to play around with the second approximation."
      ],
      "metadata": {
        "id": "jBLB29YRGFBL"
      }
    },
    {
      "cell_type": "code",
      "source": [
        "h = sqrt(x**2+y**2)\n",
        "i = 0.96*x+0.4*y"
      ],
      "metadata": {
        "id": "85Na1d3iFRp8"
      },
      "execution_count": 39,
      "outputs": []
    },
    {
      "cell_type": "code",
      "source": [
        "l = [(x,y) for x in range(0,10) for y in range(0,10)]"
      ],
      "metadata": {
        "id": "Ot3JNND7GQlC"
      },
      "execution_count": 40,
      "outputs": []
    },
    {
      "cell_type": "code",
      "source": [
        "for val in l:\n",
        "  print(val,i.subs([(x,val[0]),(y,val[1])]),N(h.subs([(x,val[0]),(y,val[1])])),relativeerror.subs([(x,i.subs([(x,val[0]),(y,val[1])])),(y,N(h.subs([(x,val[0]),(y,val[1])])))]))"
      ],
      "metadata": {
        "colab": {
          "base_uri": "https://localhost:8080/"
        },
        "id": "30zVCCefGiAt",
        "outputId": "4efdf80d-2dd5-4763-f4b4-b7d5192d4222"
      },
      "execution_count": 47,
      "outputs": [
        {
          "output_type": "stream",
          "name": "stdout",
          "text": [
            "(0, 0) 0 0 -1\n",
            "(0, 1) 0.400000000000000 1.00000000000000 -0.600000000000000\n",
            "(0, 2) 0.800000000000000 2.00000000000000 -0.600000000000000\n",
            "(0, 3) 1.20000000000000 3.00000000000000 -0.600000000000000\n",
            "(0, 4) 1.60000000000000 4.00000000000000 -0.600000000000000\n",
            "(0, 5) 2.00000000000000 5.00000000000000 -0.600000000000000\n",
            "(0, 6) 2.40000000000000 6.00000000000000 -0.600000000000000\n",
            "(0, 7) 2.80000000000000 7.00000000000000 -0.600000000000000\n",
            "(0, 8) 3.20000000000000 8.00000000000000 -0.600000000000000\n",
            "(0, 9) 3.60000000000000 9.00000000000000 -0.600000000000000\n",
            "(1, 0) 0.960000000000000 1.00000000000000 -0.0400000000000000\n",
            "(1, 1) 1.36000000000000 1.41421356237310 -0.0383347775862955\n",
            "(1, 2) 1.76000000000000 2.23606797749979 -0.212904071920074\n",
            "(1, 3) 2.16000000000000 3.16227766016838 -0.316948025403630\n",
            "(1, 4) 2.56000000000000 4.12310562561766 -0.379108799906988\n",
            "(1, 5) 2.96000000000000 5.09901951359278 -0.419496239990975\n",
            "(1, 6) 3.36000000000000 6.08276253029822 -0.447619402653999\n",
            "(1, 7) 3.76000000000000 7.07106781186548 -0.468255700547716\n",
            "(1, 8) 4.16000000000000 8.06225774829855 -0.484015504108893\n",
            "(1, 9) 4.56000000000000 9.05538513813742 -0.496432241098700\n",
            "(2, 0) 1.92000000000000 2.00000000000000 -0.0400000000000000\n",
            "(2, 1) 2.32000000000000 2.23606797749979 0.0375355415599023\n",
            "(2, 2) 2.72000000000000 2.82842712474619 -0.0383347775862955\n",
            "(2, 3) 3.12000000000000 3.60555127546399 -0.134667693888642\n",
            "(2, 4) 3.52000000000000 4.47213595499958 -0.212904071920074\n",
            "(2, 5) 3.92000000000000 5.38516480713450 -0.272074274345957\n",
            "(2, 6) 4.32000000000000 6.32455532033676 -0.316948025403630\n",
            "(2, 7) 4.72000000000000 7.28010988928052 -0.351658138162188\n",
            "(2, 8) 5.12000000000000 8.24621125123532 -0.379108799906988\n",
            "(2, 9) 5.52000000000000 9.21954445729289 -0.401271936420509\n",
            "(3, 0) 2.88000000000000 3.00000000000000 -0.0400000000000000\n",
            "(3, 1) 3.28000000000000 3.16227766016838 0.0372270725352283\n",
            "(3, 2) 3.68000000000000 3.60555127546399 0.0206483610544216\n",
            "(3, 3) 4.08000000000000 4.24264068711928 -0.0383347775862953\n",
            "(3, 4) 4.48000000000000 5.00000000000000 -0.104000000000000\n",
            "(3, 5) 4.88000000000000 5.83095189484530 -0.163086904504557\n",
            "(3, 6) 5.28000000000000 6.70820393249937 -0.212904071920074\n",
            "(3, 7) 5.68000000000000 7.61577310586391 -0.254179461356776\n",
            "(3, 8) 6.08000000000000 8.54400374531753 -0.288389825047526\n",
            "(3, 9) 6.48000000000000 9.48683298050514 -0.316948025403630\n",
            "(4, 0) 3.84000000000000 4.00000000000000 -0.0400000000000000\n",
            "(4, 1) 4.24000000000000 4.12310562561766 0.0283510501540519\n",
            "(4, 2) 4.64000000000000 4.47213595499958 0.0375355415599023\n",
            "(4, 3) 5.04000000000000 5.00000000000000 0.00800000000000001\n",
            "(4, 4) 5.44000000000000 5.65685424949238 -0.0383347775862955\n",
            "(4, 5) 5.84000000000000 6.40312423743285 -0.0879452305705406\n",
            "(4, 6) 6.24000000000000 7.21110255092798 -0.134667693888642\n",
            "(4, 7) 6.64000000000000 8.06225774829855 -0.176409362327656\n",
            "(4, 8) 7.04000000000000 8.94427190999916 -0.212904071920074\n",
            "(4, 9) 7.44000000000000 9.84885780179610 -0.244582453140587\n",
            "(5, 0) 4.80000000000000 5.00000000000000 -0.0400000000000000\n",
            "(5, 1) 5.20000000000000 5.09901951359278 0.0198039027185571\n",
            "(5, 2) 5.60000000000000 5.38516480713450 0.0398938937914904\n",
            "(5, 3) 6.00000000000000 5.83095189484530 0.0289915108550530\n",
            "(5, 4) 6.40000000000000 6.40312423743285 -0.000487923912921101\n",
            "(5, 5) 6.80000000000000 7.07106781186548 -0.0383347775862954\n",
            "(5, 6) 7.20000000000000 7.81024967590665 -0.0781344644831489\n",
            "(5, 7) 7.60000000000000 8.60232526704263 -0.116517945546974\n",
            "(5, 8) 8.00000000000000 9.43398113205660 -0.152001695994912\n",
            "(5, 9) 8.40000000000000 10.2956301409870 -0.184119875619898\n",
            "(6, 0) 5.76000000000000 6.00000000000000 -0.0400000000000000\n",
            "(6, 1) 6.16000000000000 6.08276253029822 0.0126977618010010\n",
            "(6, 2) 6.56000000000000 6.32455532033676 0.0372270725352283\n",
            "(6, 3) 6.96000000000000 6.70820393249937 0.0375355415599024\n",
            "(6, 4) 7.36000000000000 7.21110255092798 0.0206483610544216\n",
            "(6, 5) 7.76000000000000 7.81024967590665 -0.00643381172072722\n",
            "(6, 6) 8.16000000000000 8.48528137423857 -0.0383347775862953\n",
            "(6, 7) 8.56000000000000 9.21954445729289 -0.0715376405361515\n",
            "(6, 8) 8.96000000000000 10.0000000000000 -0.104000000000000\n",
            "(6, 9) 9.36000000000000 10.8166538263920 -0.134667693888643\n",
            "(7, 0) 6.72000000000000 7.00000000000000 -0.0400000000000000\n",
            "(7, 1) 7.12000000000000 7.07106781186548 0.00692005640964365\n",
            "(7, 2) 7.52000000000000 7.28010988928052 0.0329514408941414\n",
            "(7, 3) 7.92000000000000 7.61577310586391 0.0399469482490026\n",
            "(7, 4) 8.32000000000000 8.06225774829855 0.0319689917822145\n",
            "(7, 5) 8.72000000000000 8.60232526704263 0.0136794098461040\n",
            "(7, 6) 9.12000000000000 9.21954445729289 -0.0107971123469277\n",
            "(7, 7) 9.52000000000000 9.89949493661167 -0.0383347775862954\n",
            "(7, 8) 9.92000000000000 10.6301458127346 -0.0668048985634715\n",
            "(7, 9) 10.3200000000000 11.4017542509914 -0.0948761240751458\n",
            "(8, 0) 7.68000000000000 8.00000000000000 -0.0400000000000000\n",
            "(8, 1) 8.08000000000000 8.06225774829855 0.00220065548080440\n",
            "(8, 2) 8.48000000000000 8.24621125123532 0.0283510501540519\n",
            "(8, 3) 8.88000000000000 8.54400374531753 0.0393253871016394\n",
            "(8, 4) 9.28000000000000 8.94427190999916 0.0375355415599023\n",
            "(8, 5) 9.68000000000000 9.43398113205660 0.0260779478461565\n",
            "(8, 6) 10.0800000000000 10.0000000000000 0.00800000000000001\n",
            "(8, 7) 10.4800000000000 10.6301458127346 -0.0141245299339901\n",
            "(8, 8) 10.8800000000000 11.3137084989848 -0.0383347775862955\n",
            "(8, 9) 11.2800000000000 12.0415945787923 -0.0632469872498132\n",
            "(9, 0) 8.64000000000000 9.00000000000000 -0.0399999999999999\n",
            "(9, 1) 9.04000000000000 9.05538513813742 -0.00169900428338721\n",
            "(9, 2) 9.44000000000000 9.21954445729289 0.0239117609040573\n",
            "(9, 3) 9.84000000000000 9.48683298050514 0.0372270725352284\n",
            "(9, 4) 10.2400000000000 9.84885780179610 0.0397144730968260\n",
            "(9, 5) 10.6400000000000 10.2956301409870 0.0334481575481291\n",
            "(9, 6) 11.0400000000000 10.8166538263920 0.0206483610544216\n",
            "(9, 7) 11.4400000000000 11.4017542509914 0.00335437408724159\n",
            "(9, 8) 11.8400000000000 12.0415945787923 -0.0167415185317188\n",
            "(9, 9) 12.2400000000000 12.7279220613579 -0.0383347775862953\n"
          ]
        }
      ]
    },
    {
      "cell_type": "markdown",
      "source": [
        "I think what I am most amazed by is these relative errors stay below 10% and are much easier to compute!  I hypothesysed that the x value should be the larger value but it doesn't seem to matter too much!"
      ],
      "metadata": {
        "id": "BDyaTye2HiDy"
      }
    },
    {
      "cell_type": "code",
      "source": [],
      "metadata": {
        "id": "SSBQGTvnGiia"
      },
      "execution_count": null,
      "outputs": []
    }
  ]
}