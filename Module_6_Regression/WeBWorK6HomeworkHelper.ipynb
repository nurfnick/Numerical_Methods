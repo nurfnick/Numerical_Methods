{
  "nbformat": 4,
  "nbformat_minor": 0,
  "metadata": {
    "colab": {
      "name": "Untitled14.ipynb",
      "provenance": [],
      "authorship_tag": "ABX9TyMz6YEQ7aKdaeBJZTUPOd2K",
      "include_colab_link": true
    },
    "kernelspec": {
      "name": "python3",
      "display_name": "Python 3"
    }
  },
  "cells": [
    {
      "cell_type": "markdown",
      "metadata": {
        "id": "view-in-github",
        "colab_type": "text"
      },
      "source": [
        "<a href=\"https://colab.research.google.com/github/nurfnick/Numerical_Methods/blob/master/Module_6_Regression/WeBWorK6HomeworkHelper.ipynb\" target=\"_parent\"><img src=\"https://colab.research.google.com/assets/colab-badge.svg\" alt=\"Open In Colab\"/></a>"
      ]
    },
    {
      "cell_type": "markdown",
      "metadata": {
        "id": "ZEPaOqdD-DYd"
      },
      "source": [
        "# WeBWorK Homework Helper 6  Regression\n",
        "\n"
      ]
    },
    {
      "cell_type": "markdown",
      "metadata": {
        "id": "zezmsqwY-MDr"
      },
      "source": [
        "##WeBWorK 6\n",
        "\n",
        "Is the number of games won by a major league baseball team in a season related to the team batting average? The table below shows the number of games won and the batting average (in thousandths) of 8 teams.\n",
        "\n",
        "\n",
        "| Team | Games Won | Batting Average |\n",
        "|------|-----------|-----------------|\n",
        "| 1    | 64        | 267             |\n",
        "| 2    | 61        | 261             |\n",
        "| 3    | 76        | 279             |\n",
        "| 4    | 71        | 288             |\n",
        "| 5    | 97        | 276             |\n",
        "| 6    | 65        | 278             |\n",
        "| 7    | 113       | 269             |\n",
        "| 8    | 120       | 275             |\n",
        "\n",
        "\n",
        "Using games won as the explanatory variable $x$ find the correlation coefficient and the equation of the least squares line."
      ]
    },
    {
      "cell_type": "code",
      "metadata": {
        "colab": {
          "base_uri": "https://localhost:8080/"
        },
        "id": "GPBbHCmX-CZi",
        "outputId": "6ee73b39-8b30-4414-dcd3-931ee1854f90"
      },
      "source": [
        "from scipy import stats\n",
        "\n",
        "games = [64,61,76,71,97,65,113,120]\n",
        "BA = [267, 261,279,288,276,278,269,275]\n",
        "\n",
        "stats.linregress(games, BA)"
      ],
      "execution_count": null,
      "outputs": [
        {
          "output_type": "execute_result",
          "data": {
            "text/plain": [
              "LinregressResult(slope=0.015323292057372496, intercept=272.84742052471654, rvalue=0.04304300377517962, pvalue=0.9193939947428843, stderr=0.1452015328046192)"
            ]
          },
          "metadata": {
            "tags": []
          },
          "execution_count": 1
        }
      ]
    },
    {
      "cell_type": "markdown",
      "metadata": {
        "id": "EygT8cad_maC"
      },
      "source": [
        "So the correlations coefficient is $r = 0.04304300377517962$ and the equation for the line is $\\hat y = 0.015323292057372496 x +272.84742052471654$\n"
      ]
    },
    {
      "cell_type": "markdown",
      "source": [
        "## WeBWorK 7\n",
        "\n",
        "Calculate the least-squares regression line for the following set of data points:\n",
        "(-3,6), (2,5), (2,6), (1,7), (6,9), (4,7), (9,9).\n",
        "\n",
        "I am going to answer this one the hard way, using the forumlas!\n",
        "\n",
        "$$\n",
        "S_{xy} = \\sum x_iy_i-n\\bar x\\bar y\\\\\n",
        "S_{xx} = \\sum x_i^2 - n\\bar x^2\\\\\n",
        "a_1 = \\frac{S_{xy}}{S_{xx}}\\\\\n",
        "a_0 = \\bar y - a_1 \\bar x\n",
        "$$"
      ],
      "metadata": {
        "id": "ngaGF5IX_wFO"
      }
    },
    {
      "cell_type": "code",
      "source": [
        "x =[-3,2,2,1,6,4,9]\n",
        "y = [6,5,6,7,9,7,9]\n",
        "n = len(x)\n",
        "\n",
        "xbar = sum(x)/n\n",
        "ybar = sum(y)/n\n",
        "xy = [x[i]*y[i] for i in range(n)]\n",
        "xx = [x**2 for x in x]\n",
        "\n",
        "sxy = sum(xy) - n*xbar*ybar\n",
        "sxx = sum(xx) - n*xbar**2\n",
        "\n",
        "a1 = sxy/sxx\n",
        "a0 = ybar - a1*xbar\n",
        "\n",
        "print(a0,a1)"
      ],
      "metadata": {
        "id": "IQaLfDpc_-ZI",
        "outputId": "8478cb9b-e079-45f6-f658-c2a6ed950930",
        "colab": {
          "base_uri": "https://localhost:8080/"
        }
      },
      "execution_count": 2,
      "outputs": [
        {
          "output_type": "stream",
          "name": "stdout",
          "text": [
            "6.079545454545455 0.3068181818181818\n"
          ]
        }
      ]
    },
    {
      "cell_type": "markdown",
      "metadata": {
        "id": "OHv3WMksDFbp"
      },
      "source": [
        "## WeBWorK 11\n",
        "\n",
        "The amounts of 6 restaurant bills and the corresponding amounts of the tips are given in the below.\n",
        "\\begin{array}{c|cccccc}\n",
        "\\mbox{Bill} & 70.29 & 106.27 & 32.98 & 64.30 & 52.44 & 49.72 \\cr\n",
        "\\hline\n",
        "\\mbox{Tip}  & 10.00 & 16.00 & 4.50 & 7.70 & 7.00 & 5.28 \\cr\n",
        "\\end{array}\n",
        "Use a 0.05 confidence level to find the following:\n",
        "The test statistic r = \n",
        "\n",
        "Is there a significant correlation?\n",
        "\n",
        " 1. Yes\n",
        " 1. No\n",
        "\n",
        "If the amount of the bill is $40, the best prediction for the amount of the tip is \n"
      ]
    },
    {
      "cell_type": "code",
      "metadata": {
        "colab": {
          "base_uri": "https://localhost:8080/"
        },
        "id": "mJC0IsiN_fnl",
        "outputId": "643b0ebf-1d32-4638-8aad-95f165a9da72"
      },
      "source": [
        "bill = [70.29,106.27,32.98,64.30,52.44,49.72]\n",
        "tip = [10,16,4.50,7.7,7,5.28]\n",
        "\n",
        "stats.linregress(bill, tip)"
      ],
      "execution_count": null,
      "outputs": [
        {
          "output_type": "execute_result",
          "data": {
            "text/plain": [
              "LinregressResult(slope=0.16463581370171665, intercept=-1.9038443253075759, rvalue=0.9812002855581488, pvalue=0.0005268217100319339, stderr=0.01619110428907605)"
            ]
          },
          "metadata": {
            "tags": []
          },
          "execution_count": 2
        }
      ]
    },
    {
      "cell_type": "markdown",
      "metadata": {
        "id": "Z7Zkn6EzDnc9"
      },
      "source": [
        "Yes significant correlation, the $p$ value is low!\n",
        "\n",
        "As for making the prediction."
      ]
    },
    {
      "cell_type": "code",
      "metadata": {
        "id": "y2UMgcreDk-E"
      },
      "source": [
        "def f(x):\n",
        "  return x*0.16463581370171665-1.9038443253075759"
      ],
      "execution_count": null,
      "outputs": []
    },
    {
      "cell_type": "code",
      "metadata": {
        "colab": {
          "base_uri": "https://localhost:8080/"
        },
        "id": "geZCrKqhD4Et",
        "outputId": "c713aef1-34a2-40c4-af82-ed2c2e19b62b"
      },
      "source": [
        "f(40)"
      ],
      "execution_count": null,
      "outputs": [
        {
          "output_type": "execute_result",
          "data": {
            "text/plain": [
              "4.68158822276109"
            ]
          },
          "metadata": {
            "tags": []
          },
          "execution_count": 4
        }
      ]
    },
    {
      "cell_type": "code",
      "metadata": {
        "id": "1BntFqW4D56e"
      },
      "source": [],
      "execution_count": null,
      "outputs": []
    }
  ]
}